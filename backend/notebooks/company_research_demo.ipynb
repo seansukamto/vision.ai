{
  "cells": [
    {
      "cell_type": "markdown",
      "metadata": {},
      "source": [
        "# Company Research Assistant Demo\n",
        "\n",
        "This notebook demonstrates the Company Research Assistant's ability to provide comprehensive company analysis for job seekers using specialized research agents.\n",
        "\n",
        "## Features\n",
        "\n",
        "- **Past Research Agent**: Company history, founding, evolution, and milestones\n",
        "- **Future Research Agent**: Strategic plans, growth prospects, and opportunities\n",
        "- **Culture Research Agent**: Values, work environment, and employee satisfaction\n",
        "- **Job Context Integration**: Tailored research when job description is provided\n"
      ]
    },
    {
      "cell_type": "code",
      "execution_count": null,
      "metadata": {},
      "outputs": [],
      "source": [
        "# Import necessary modules\n",
        "import asyncio\n",
        "import sys\n",
        "import os\n",
        "\n",
        "# Add the src directory to the Python path\n",
        "sys.path.append('../src')\n",
        "\n",
        "from company_research_assistant.company_research_workflow import company_research_workflow\n"
      ]
    },
    {
      "cell_type": "markdown",
      "metadata": {},
      "source": [
        "## Example 1: Basic Company Research\n",
        "\n",
        "Research a company without specific job context to get comprehensive overview.\n"
      ]
    },
    {
      "cell_type": "code",
      "execution_count": null,
      "metadata": {},
      "outputs": [],
      "source": [
        "# Example 1: Research Google without job context\n",
        "async def research_google_basic():\n",
        "    initial_state = {\n",
        "        \"company_name\": \"Google\",\n",
        "        \"job_description\": None,\n",
        "        \"job_title\": None,\n",
        "        \"messages\": [],\n",
        "        \"research_brief\": \"\",\n",
        "        \"research_iterations\": 0,\n",
        "        \"processing_errors\": []\n",
        "    }\n",
        "    \n",
        "    result = await company_research_workflow.ainvoke(initial_state)\n",
        "    return result.get(\"comprehensive_report\", \"No report generated\")\n",
        "\n",
        "# Run the research\n",
        "google_report = await research_google_basic()\n",
        "print(\"📊 Google Company Research Report\")\n",
        "print(\"=\" * 60)\n",
        "print(google_report)\n"
      ]
    }
  ],
  "metadata": {
    "language_info": {
      "name": "python"
    }
  },
  "nbformat": 4,
  "nbformat_minor": 2
}
